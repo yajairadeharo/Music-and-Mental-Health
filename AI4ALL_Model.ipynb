{
  "metadata": {
    "kernelspec": {
      "language": "python",
      "display_name": "Python 3",
      "name": "python3"
    },
    "language_info": {
      "name": "python",
      "version": "3.11.13",
      "mimetype": "text/x-python",
      "codemirror_mode": {
        "name": "ipython",
        "version": 3
      },
      "pygments_lexer": "ipython3",
      "nbconvert_exporter": "python",
      "file_extension": ".py"
    },
    "kaggle": {
      "accelerator": "none",
      "dataSources": [
        {
          "sourceId": 12625802,
          "sourceType": "datasetVersion",
          "datasetId": 7977571
        }
      ],
      "dockerImageVersionId": 31089,
      "isInternetEnabled": false,
      "language": "python",
      "sourceType": "notebook",
      "isGpuEnabled": false
    },
    "colab": {
      "provenance": []
    }
  },
  "nbformat_minor": 0,
  "nbformat": 4,
  "cells": [
    {
      "source": [
        "# IMPORTANT: SOME KAGGLE DATA SOURCES ARE PRIVATE\n",
        "# RUN THIS CELL IN ORDER TO IMPORT YOUR KAGGLE DATA SOURCES.\n",
        "import kagglehub\n",
        "kagglehub.login()\n"
      ],
      "metadata": {
        "id": "9167oOefgsye"
      },
      "cell_type": "code",
      "outputs": [],
      "execution_count": null
    },
    {
      "source": [
        "# IMPORTANT: RUN THIS CELL IN ORDER TO IMPORT YOUR KAGGLE DATA SOURCES,\n",
        "# THEN FEEL FREE TO DELETE THIS CELL.\n",
        "# NOTE: THIS NOTEBOOK ENVIRONMENT DIFFERS FROM KAGGLE'S PYTHON\n",
        "# ENVIRONMENT SO THERE MAY BE MISSING LIBRARIES USED BY YOUR\n",
        "# NOTEBOOK.\n",
        "\n",
        "justinjyoo_ai4all_path = kagglehub.dataset_download('justinjyoo/ai4all')\n",
        "\n",
        "print('Data source import complete.')\n"
      ],
      "metadata": {
        "id": "e3W5w4pygsyg"
      },
      "cell_type": "code",
      "outputs": [],
      "execution_count": null
    },
    {
      "cell_type": "code",
      "source": [
        "# Import Necessary Libraries\n",
        "import pandas as pd\n",
        "import numpy as np\n",
        "import os\n",
        "\n",
        "import matplotlib.pyplot as plt\n",
        "import seaborn as sns"
      ],
      "metadata": {
        "_uuid": "8f2839f25d086af736a60e9eeb907d3b93b6e0e5",
        "_cell_guid": "b1076dfc-b9ad-4769-8c92-a6c4dae69d19",
        "trusted": true,
        "execution": {
          "iopub.status.busy": "2025-08-05T15:19:12.935101Z",
          "iopub.execute_input": "2025-08-05T15:19:12.936739Z",
          "iopub.status.idle": "2025-08-05T15:19:12.943749Z",
          "shell.execute_reply.started": "2025-08-05T15:19:12.936694Z",
          "shell.execute_reply": "2025-08-05T15:19:12.942072Z"
        },
        "id": "4eGv-VEzgsyh"
      },
      "outputs": [],
      "execution_count": null
    },
    {
      "cell_type": "code",
      "source": [
        "# Get Dataset\n",
        "link = \"/kaggle/input/ai4all/mxmh_survey_results (1).csv\"\n",
        "df = pd.read_csv(link)\n",
        "df.head()"
      ],
      "metadata": {
        "trusted": true,
        "execution": {
          "iopub.status.busy": "2025-08-05T15:19:15.531355Z",
          "iopub.execute_input": "2025-08-05T15:19:15.532356Z",
          "iopub.status.idle": "2025-08-05T15:19:15.574133Z",
          "shell.execute_reply.started": "2025-08-05T15:19:15.532326Z",
          "shell.execute_reply": "2025-08-05T15:19:15.572809Z"
        },
        "id": "03pE7_bKgsyh",
        "outputId": "a1bd57f0-8aed-461b-a2e7-47673b830cca"
      },
      "outputs": [
        {
          "execution_count": 11,
          "output_type": "execute_result",
          "data": {
            "text/plain": "            Timestamp   Age Primary streaming service  Hours per day  \\\n0  8/27/2022 19:29:02  18.0                   Spotify            3.0   \n1  8/27/2022 19:57:31  63.0                   Pandora            1.5   \n2  8/27/2022 21:28:18  18.0                   Spotify            4.0   \n3  8/27/2022 21:40:40  61.0             YouTube Music            2.5   \n4  8/27/2022 21:54:47  18.0                   Spotify            4.0   \n\n  While working Instrumentalist Composer         Fav genre Exploratory  \\\n0           Yes             Yes      Yes             Latin         Yes   \n1           Yes              No       No              Rock         Yes   \n2            No              No       No  Video game music          No   \n3           Yes              No      Yes              Jazz         Yes   \n4           Yes              No       No               R&B         Yes   \n\n  Foreign languages  ...  Frequency [R&B]  Frequency [Rap] Frequency [Rock]  \\\n0               Yes  ...        Sometimes  Very frequently            Never   \n1                No  ...        Sometimes           Rarely  Very frequently   \n2               Yes  ...            Never           Rarely           Rarely   \n3               Yes  ...        Sometimes            Never            Never   \n4                No  ...  Very frequently  Very frequently            Never   \n\n  Frequency [Video game music] Anxiety Depression Insomnia  OCD Music effects  \\\n0                    Sometimes     3.0        0.0      1.0  0.0           NaN   \n1                       Rarely     7.0        2.0      2.0  1.0           NaN   \n2              Very frequently     7.0        7.0     10.0  2.0     No effect   \n3                        Never     9.0        7.0      3.0  3.0       Improve   \n4                       Rarely     7.0        2.0      5.0  9.0       Improve   \n\n     Permissions  \n0  I understand.  \n1  I understand.  \n2  I understand.  \n3  I understand.  \n4  I understand.  \n\n[5 rows x 33 columns]",
            "text/html": "<div>\n<style scoped>\n    .dataframe tbody tr th:only-of-type {\n        vertical-align: middle;\n    }\n\n    .dataframe tbody tr th {\n        vertical-align: top;\n    }\n\n    .dataframe thead th {\n        text-align: right;\n    }\n</style>\n<table border=\"1\" class=\"dataframe\">\n  <thead>\n    <tr style=\"text-align: right;\">\n      <th></th>\n      <th>Timestamp</th>\n      <th>Age</th>\n      <th>Primary streaming service</th>\n      <th>Hours per day</th>\n      <th>While working</th>\n      <th>Instrumentalist</th>\n      <th>Composer</th>\n      <th>Fav genre</th>\n      <th>Exploratory</th>\n      <th>Foreign languages</th>\n      <th>...</th>\n      <th>Frequency [R&amp;B]</th>\n      <th>Frequency [Rap]</th>\n      <th>Frequency [Rock]</th>\n      <th>Frequency [Video game music]</th>\n      <th>Anxiety</th>\n      <th>Depression</th>\n      <th>Insomnia</th>\n      <th>OCD</th>\n      <th>Music effects</th>\n      <th>Permissions</th>\n    </tr>\n  </thead>\n  <tbody>\n    <tr>\n      <th>0</th>\n      <td>8/27/2022 19:29:02</td>\n      <td>18.0</td>\n      <td>Spotify</td>\n      <td>3.0</td>\n      <td>Yes</td>\n      <td>Yes</td>\n      <td>Yes</td>\n      <td>Latin</td>\n      <td>Yes</td>\n      <td>Yes</td>\n      <td>...</td>\n      <td>Sometimes</td>\n      <td>Very frequently</td>\n      <td>Never</td>\n      <td>Sometimes</td>\n      <td>3.0</td>\n      <td>0.0</td>\n      <td>1.0</td>\n      <td>0.0</td>\n      <td>NaN</td>\n      <td>I understand.</td>\n    </tr>\n    <tr>\n      <th>1</th>\n      <td>8/27/2022 19:57:31</td>\n      <td>63.0</td>\n      <td>Pandora</td>\n      <td>1.5</td>\n      <td>Yes</td>\n      <td>No</td>\n      <td>No</td>\n      <td>Rock</td>\n      <td>Yes</td>\n      <td>No</td>\n      <td>...</td>\n      <td>Sometimes</td>\n      <td>Rarely</td>\n      <td>Very frequently</td>\n      <td>Rarely</td>\n      <td>7.0</td>\n      <td>2.0</td>\n      <td>2.0</td>\n      <td>1.0</td>\n      <td>NaN</td>\n      <td>I understand.</td>\n    </tr>\n    <tr>\n      <th>2</th>\n      <td>8/27/2022 21:28:18</td>\n      <td>18.0</td>\n      <td>Spotify</td>\n      <td>4.0</td>\n      <td>No</td>\n      <td>No</td>\n      <td>No</td>\n      <td>Video game music</td>\n      <td>No</td>\n      <td>Yes</td>\n      <td>...</td>\n      <td>Never</td>\n      <td>Rarely</td>\n      <td>Rarely</td>\n      <td>Very frequently</td>\n      <td>7.0</td>\n      <td>7.0</td>\n      <td>10.0</td>\n      <td>2.0</td>\n      <td>No effect</td>\n      <td>I understand.</td>\n    </tr>\n    <tr>\n      <th>3</th>\n      <td>8/27/2022 21:40:40</td>\n      <td>61.0</td>\n      <td>YouTube Music</td>\n      <td>2.5</td>\n      <td>Yes</td>\n      <td>No</td>\n      <td>Yes</td>\n      <td>Jazz</td>\n      <td>Yes</td>\n      <td>Yes</td>\n      <td>...</td>\n      <td>Sometimes</td>\n      <td>Never</td>\n      <td>Never</td>\n      <td>Never</td>\n      <td>9.0</td>\n      <td>7.0</td>\n      <td>3.0</td>\n      <td>3.0</td>\n      <td>Improve</td>\n      <td>I understand.</td>\n    </tr>\n    <tr>\n      <th>4</th>\n      <td>8/27/2022 21:54:47</td>\n      <td>18.0</td>\n      <td>Spotify</td>\n      <td>4.0</td>\n      <td>Yes</td>\n      <td>No</td>\n      <td>No</td>\n      <td>R&amp;B</td>\n      <td>Yes</td>\n      <td>No</td>\n      <td>...</td>\n      <td>Very frequently</td>\n      <td>Very frequently</td>\n      <td>Never</td>\n      <td>Rarely</td>\n      <td>7.0</td>\n      <td>2.0</td>\n      <td>5.0</td>\n      <td>9.0</td>\n      <td>Improve</td>\n      <td>I understand.</td>\n    </tr>\n  </tbody>\n</table>\n<p>5 rows × 33 columns</p>\n</div>"
          },
          "metadata": {}
        }
      ],
      "execution_count": null
    },
    {
      "cell_type": "code",
      "source": [
        "# Remove columns not needed for analysis\n",
        "# Includes Timestamp, Primary Streaming Service, BPM, Permissions\n",
        "df.drop(columns=[\"Timestamp\",\"Primary streaming service\",\"BPM\",\n",
        "                \"Permissions\"], inplace = True, errors = 'ignore')"
      ],
      "metadata": {
        "trusted": true,
        "execution": {
          "iopub.status.busy": "2025-08-05T15:19:21.702802Z",
          "iopub.execute_input": "2025-08-05T15:19:21.703251Z",
          "iopub.status.idle": "2025-08-05T15:19:21.709566Z",
          "shell.execute_reply.started": "2025-08-05T15:19:21.703224Z",
          "shell.execute_reply": "2025-08-05T15:19:21.708526Z"
        },
        "id": "f0ZX8e7sgsyi"
      },
      "outputs": [],
      "execution_count": null
    },
    {
      "cell_type": "code",
      "source": [
        "# Note: Data Shape is (719, 29)\n",
        "print(df.shape)"
      ],
      "metadata": {
        "trusted": true,
        "execution": {
          "iopub.status.busy": "2025-08-05T15:19:23.573329Z",
          "iopub.execute_input": "2025-08-05T15:19:23.574657Z",
          "iopub.status.idle": "2025-08-05T15:19:23.580422Z",
          "shell.execute_reply.started": "2025-08-05T15:19:23.574613Z",
          "shell.execute_reply": "2025-08-05T15:19:23.579298Z"
        },
        "id": "ofMZLI4Mgsyi",
        "outputId": "3a6d216c-7b90-47f5-c0e1-7494ca02f08b"
      },
      "outputs": [
        {
          "name": "stdout",
          "text": "(736, 29)\n",
          "output_type": "stream"
        }
      ],
      "execution_count": null
    },
    {
      "cell_type": "code",
      "source": [
        "# Drop all rows with missing values (Total of 17 Rows, Now at 719 Rows)\n",
        "df.dropna(axis = 0, inplace = True)\n",
        "\n",
        "# Note: no more missing values"
      ],
      "metadata": {
        "trusted": true,
        "execution": {
          "iopub.status.busy": "2025-08-05T15:19:26.968169Z",
          "iopub.execute_input": "2025-08-05T15:19:26.968565Z",
          "iopub.status.idle": "2025-08-05T15:19:26.977805Z",
          "shell.execute_reply.started": "2025-08-05T15:19:26.968536Z",
          "shell.execute_reply": "2025-08-05T15:19:26.976366Z"
        },
        "id": "4yUGABPPgsyj"
      },
      "outputs": [],
      "execution_count": null
    },
    {
      "cell_type": "code",
      "source": [
        "# Set Target Variable and Features\n",
        "# We know from my first code draft that we have no outliers since we are not removing ages\n",
        "y = df['Music effects']\n",
        "X = df.drop(\"Music effects\", axis=1)"
      ],
      "metadata": {
        "trusted": true,
        "execution": {
          "iopub.status.busy": "2025-08-05T15:19:28.792639Z",
          "iopub.execute_input": "2025-08-05T15:19:28.792997Z",
          "iopub.status.idle": "2025-08-05T15:19:28.799807Z",
          "shell.execute_reply.started": "2025-08-05T15:19:28.792971Z",
          "shell.execute_reply": "2025-08-05T15:19:28.798521Z"
        },
        "id": "YEYqD0Msgsyj"
      },
      "outputs": [],
      "execution_count": null
    },
    {
      "cell_type": "code",
      "source": [
        "# Split Data\n",
        "from sklearn.model_selection import train_test_split\n",
        "\n",
        "# First split: 100% → 80% temp + 20% test\n",
        "X_temp, X_test, y_temp, y_test = train_test_split(X, y, test_size=0.2, random_state=0)\n",
        "\n",
        "# Second split: 80% temp → 60% train + 20% validation\n",
        "# To get 20% validation from 80% temp: 20/80 = 0.25\n",
        "X_train, X_val, y_train, y_val = train_test_split(X_temp, y_temp, test_size=0.25, random_state=0)"
      ],
      "metadata": {
        "trusted": true,
        "execution": {
          "iopub.status.busy": "2025-08-05T15:20:04.015538Z",
          "iopub.execute_input": "2025-08-05T15:20:04.016043Z",
          "iopub.status.idle": "2025-08-05T15:20:04.029081Z",
          "shell.execute_reply.started": "2025-08-05T15:20:04.016014Z",
          "shell.execute_reply": "2025-08-05T15:20:04.027546Z"
        },
        "id": "6YKea-rUgsyk"
      },
      "outputs": [],
      "execution_count": null
    },
    {
      "cell_type": "code",
      "source": [
        "# Setup a model to test Ordinal Encoding vs. One-Hot Encoding\n",
        "from sklearn.ensemble import RandomForestClassifier\n",
        "from sklearn.metrics import mean_absolute_error\n",
        "\n",
        "# Function for comparing different approaches\n",
        "def score_dataset(X_train, X_val, y_train, y_val):\n",
        "    model = RandomForestClassifier(n_estimators=100, random_state=0)\n",
        "    model.fit(X_train, y_train)\n",
        "    predictions = model.predict(X_val)\n",
        "    return mean_absolute_error(y_val, predictions)"
      ],
      "metadata": {
        "trusted": true,
        "execution": {
          "iopub.status.busy": "2025-08-05T15:21:05.929657Z",
          "iopub.execute_input": "2025-08-05T15:21:05.930234Z",
          "iopub.status.idle": "2025-08-05T15:21:05.93814Z",
          "shell.execute_reply.started": "2025-08-05T15:21:05.930191Z",
          "shell.execute_reply": "2025-08-05T15:21:05.93662Z"
        },
        "id": "9uR25d7Qgsyk"
      },
      "outputs": [],
      "execution_count": null
    },
    {
      "cell_type": "code",
      "source": [
        "# Test Ordinal Encoding\n",
        "from sklearn.preprocessing import OrdinalEncoder\n",
        "\n",
        "# Get list of categorical variables for X\n",
        "s = (X_train.dtypes == 'object')\n",
        "X_object_cols = list(s[s].index)\n",
        "\n",
        "# Make copy to avoid changing original data\n",
        "label_X_train = X_train.copy()\n",
        "label_X_valid = X_val.copy()\n",
        "label_y_train = y_train.copy()\n",
        "label_y_valid = y_val.copy()\n",
        "\n",
        "# Apply ordinal encoder to each column with categorical data\n",
        "ordinal_encoder = OrdinalEncoder()\n",
        "label_X_train[X_object_cols] = ordinal_encoder.fit_transform(X_train[X_object_cols])\n",
        "label_X_valid[X_object_cols] = ordinal_encoder.transform(X_val[X_object_cols])\n",
        "\n",
        "# Do the same for target variable\n",
        "from sklearn.preprocessing import LabelEncoder\n",
        "label_encoder = LabelEncoder()\n",
        "label_y_train = label_encoder.fit_transform(y_train)\n",
        "label_y_valid = label_encoder.transform(y_val)\n",
        "\n",
        "print(score_dataset(label_X_train, label_X_valid, label_y_train, label_y_valid))\n",
        "\n",
        "# Interpret Scale\n",
        "# Yes / No:\n",
        "    # 0 - Yes\n",
        "    # 1 - No\n",
        "# Likert Scale\n",
        "    # 0 - Never\n",
        "    # 1 - Rarely\n",
        "    # 2 - Sometimes\n",
        "    # 3 - Very Frequently\n",
        "# Improve, Worsen, No effect\n",
        "    # 0 - Improve\n",
        "    # 1 - No effect\n",
        "    # 2 - Worsen"
      ],
      "metadata": {
        "trusted": true,
        "execution": {
          "iopub.status.busy": "2025-08-05T15:22:28.870518Z",
          "iopub.execute_input": "2025-08-05T15:22:28.870873Z",
          "iopub.status.idle": "2025-08-05T15:22:29.10073Z",
          "shell.execute_reply.started": "2025-08-05T15:22:28.870848Z",
          "shell.execute_reply": "2025-08-05T15:22:29.099635Z"
        },
        "id": "gM1loXOEgsyk",
        "outputId": "c463b4d2-f573-4256-ae62-1a6cdf29ac01"
      },
      "outputs": [
        {
          "name": "stdout",
          "text": "0.3055555555555556\n",
          "output_type": "stream"
        }
      ],
      "execution_count": null
    },
    {
      "cell_type": "code",
      "source": [
        "# Test One-Hot Encodidng\n",
        "from sklearn.preprocessing import OneHotEncoder\n",
        "\n",
        "# Apply one-hot encoder to each column with categorical data\n",
        "OH_encoder = OneHotEncoder(handle_unknown='ignore', sparse=False)\n",
        "OH_cols_train = pd.DataFrame(OH_encoder.fit_transform(X_train[X_object_cols]))\n",
        "OH_cols_valid = pd.DataFrame(OH_encoder.transform(X_val[X_object_cols]))\n",
        "\n",
        "# One-hot encoding removed index; put it back\n",
        "OH_cols_train.index = X_train.index\n",
        "OH_cols_valid.index = X_val.index\n",
        "\n",
        "# Remove categorical columns (will replace with one-hot encoding)\n",
        "num_X_train = X_train.drop(X_object_cols, axis=1)\n",
        "num_X_valid = X_val.drop(X_object_cols, axis=1)\n",
        "\n",
        "# Add one-hot encoded columns to numerical features\n",
        "OH_X_train = pd.concat([num_X_train, OH_cols_train], axis=1)\n",
        "OH_X_valid = pd.concat([num_X_valid, OH_cols_valid], axis=1)\n",
        "\n",
        "# Ensure all columns have string type\n",
        "OH_X_train.columns = OH_X_train.columns.astype(str)\n",
        "OH_X_valid.columns = OH_X_valid.columns.astype(str)\n",
        "\n",
        "print(\"MAE from Approach 3 (One-Hot Encoding):\")\n",
        "print(score_dataset(OH_X_train, OH_X_valid, label_y_train, label_y_valid))\n",
        "\n",
        "# Interpret\n",
        "# Although the number is extremely close, Ordinal Encoding has a smaller MAE"
      ],
      "metadata": {
        "trusted": true,
        "execution": {
          "iopub.status.busy": "2025-08-05T15:24:44.553366Z",
          "iopub.execute_input": "2025-08-05T15:24:44.554671Z",
          "iopub.status.idle": "2025-08-05T15:24:44.787881Z",
          "shell.execute_reply.started": "2025-08-05T15:24:44.55464Z",
          "shell.execute_reply": "2025-08-05T15:24:44.787105Z"
        },
        "id": "uGIaRcXwgsyl",
        "outputId": "5175a5a6-2ab7-4863-e024-c8fdc80ea2d0"
      },
      "outputs": [
        {
          "name": "stderr",
          "text": "/usr/local/lib/python3.11/dist-packages/sklearn/preprocessing/_encoders.py:868: FutureWarning: `sparse` was renamed to `sparse_output` in version 1.2 and will be removed in 1.4. `sparse_output` is ignored unless you leave `sparse` to its default value.\n  warnings.warn(\n",
          "output_type": "stream"
        },
        {
          "name": "stdout",
          "text": "MAE from Approach 3 (One-Hot Encoding):\n0.3194444444444444\n",
          "output_type": "stream"
        }
      ],
      "execution_count": null
    },
    {
      "cell_type": "code",
      "source": [
        "# Find Optimal Num of Trees\n",
        "\n",
        "# Function that calculates MAE based on n_estimators and data\n",
        "def get_mae(n_estimators, label_X_train, label_X_valid, label_y_train, label_y_valid):\n",
        "    final_model = RandomForestClassifier(n_estimators=n_estimators, random_state=0)\n",
        "    final_model.fit(label_X_train, label_y_train)\n",
        "\n",
        "    predictions = final_model.predict(label_X_valid)\n",
        "\n",
        "    mae = mean_absolute_error(label_y_valid, predictions)\n",
        "    return(mae)\n",
        "\n",
        "candidate_n_estimators = [10, 50, 100, 500]\n",
        "\n",
        "scores = {num_n: get_mae(num_n, label_X_train, label_X_valid,\n",
        "                         label_y_train, label_y_valid)\n",
        "          for num_n in candidate_n_estimators}\n",
        "\n",
        "# minimum score = min MAE + corresponding n_estimators = 50\n",
        "best_size = min(scores, key=scores.get)\n",
        "\n",
        "for n, mae in scores.items():\n",
        "    print(f\"n_estimators: {n}\\tMAE: {mae:.3f}\")"
      ],
      "metadata": {
        "trusted": true,
        "execution": {
          "iopub.status.busy": "2025-08-05T15:27:43.424432Z",
          "iopub.execute_input": "2025-08-05T15:27:43.425289Z",
          "iopub.status.idle": "2025-08-05T15:27:44.673606Z",
          "shell.execute_reply.started": "2025-08-05T15:27:43.425256Z",
          "shell.execute_reply": "2025-08-05T15:27:44.67269Z"
        },
        "id": "rzxgIlbFgsyl",
        "outputId": "7bc5a279-31eb-4e33-d3da-f72bd70322e2"
      },
      "outputs": [
        {
          "name": "stdout",
          "text": "n_estimators: 10\tMAE: 0.333\nn_estimators: 50\tMAE: 0.326\nn_estimators: 100\tMAE: 0.306\nn_estimators: 500\tMAE: 0.306\n",
          "output_type": "stream"
        }
      ],
      "execution_count": null
    },
    {
      "cell_type": "code",
      "source": [
        "# Validate\n",
        "# Use Ordinal Encoding Split Data\n",
        "\n",
        "final_model = RandomForestClassifier(n_estimators=100, random_state=0)\n",
        "final_model.fit(label_X_train, label_y_train)\n",
        "\n",
        "validationMAE = final_model.predict(label_X_valid)\n",
        "print(mean_absolute_error(label_y_valid, predictions))"
      ],
      "metadata": {
        "trusted": true,
        "execution": {
          "iopub.status.busy": "2025-08-05T15:27:56.562613Z",
          "iopub.execute_input": "2025-08-05T15:27:56.562921Z",
          "iopub.status.idle": "2025-08-05T15:27:56.758197Z",
          "shell.execute_reply.started": "2025-08-05T15:27:56.562901Z",
          "shell.execute_reply": "2025-08-05T15:27:56.757147Z"
        },
        "id": "aYwywr2igsyl",
        "outputId": "b9f16308-def0-480b-a1e8-e0a75f76ce80"
      },
      "outputs": [
        {
          "name": "stdout",
          "text": "0.3055555555555556\n",
          "output_type": "stream"
        }
      ],
      "execution_count": null
    },
    {
      "cell_type": "code",
      "source": [
        "# Test final model on unseen test data\n",
        "# Apply same encoding to test set first\n",
        "test_X_encoded = X_test.copy()\n",
        "test_X_encoded[X_object_cols] = ordinal_encoder.transform(X_test[X_object_cols])\n",
        "test_y_encoded = label_encoder.transform(y_test)\n",
        "\n",
        "# Make predictions on test set\n",
        "test_predictions = final_model.predict(test_X_encoded)\n",
        "print(\"Test Set MAE:\", mean_absolute_error(test_y_encoded, test_predictions))"
      ],
      "metadata": {
        "trusted": true,
        "execution": {
          "iopub.status.busy": "2025-08-05T15:29:58.543135Z",
          "iopub.execute_input": "2025-08-05T15:29:58.543673Z",
          "iopub.status.idle": "2025-08-05T15:29:58.58521Z",
          "shell.execute_reply.started": "2025-08-05T15:29:58.543628Z",
          "shell.execute_reply": "2025-08-05T15:29:58.58413Z"
        },
        "id": "_q8kXCIOgsym",
        "outputId": "d31c15dd-67ef-4b64-87cf-d00ab7fea724"
      },
      "outputs": [
        {
          "name": "stdout",
          "text": "Test Set MAE: 0.2361111111111111\n",
          "output_type": "stream"
        }
      ],
      "execution_count": null
    }
  ]
}